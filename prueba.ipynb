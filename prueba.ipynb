{
 "cells": [
  {
   "cell_type": "code",
   "execution_count": 1,
   "metadata": {},
   "outputs": [],
   "source": [
    "import pandas as pd\n",
    "import numpy as np\n",
    "from sklearn.metrics import silhouette_score\n",
    "from sklearn.metrics.pairwise import euclidean_distances\n",
    "from sklearn.decomposition import PCA\n",
    "import matplotlib.pyplot as plt\n",
    "import seaborn as sns\n",
    "import os"
   ]
  },
  {
   "cell_type": "code",
   "execution_count": 2,
   "metadata": {},
   "outputs": [],
   "source": [
    "# Crear carpeta para guardar los resultados\n",
    "if not os.path.exists('apartado6'):\n",
    "    os.makedirs('apartado6')"
   ]
  },
  {
   "cell_type": "code",
   "execution_count": 4,
   "metadata": {},
   "outputs": [],
   "source": [
    "# Leer el archivo `clientes_segmentados.csv`\n",
    "file_path = 'datos_telecom_preprocesado.csv'\n",
    "df_segmentados = pd.read_csv(file_path)"
   ]
  },
  {
   "cell_type": "code",
   "execution_count": 6,
   "metadata": {},
   "outputs": [
    {
     "ename": "KeyError",
     "evalue": "'Cluster'",
     "output_type": "error",
     "traceback": [
      "\u001b[1;31m---------------------------------------------------------------------------\u001b[0m",
      "\u001b[1;31mKeyError\u001b[0m                                  Traceback (most recent call last)",
      "File \u001b[1;32mc:\\Users\\mglez\\AppData\\Local\\Programs\\Python\\Python311\\Lib\\site-packages\\pandas\\core\\indexes\\base.py:3805\u001b[0m, in \u001b[0;36mIndex.get_loc\u001b[1;34m(self, key)\u001b[0m\n\u001b[0;32m   3804\u001b[0m \u001b[38;5;28;01mtry\u001b[39;00m:\n\u001b[1;32m-> 3805\u001b[0m     \u001b[38;5;28;01mreturn\u001b[39;00m \u001b[38;5;28;43mself\u001b[39;49m\u001b[38;5;241;43m.\u001b[39;49m\u001b[43m_engine\u001b[49m\u001b[38;5;241;43m.\u001b[39;49m\u001b[43mget_loc\u001b[49m\u001b[43m(\u001b[49m\u001b[43mcasted_key\u001b[49m\u001b[43m)\u001b[49m\n\u001b[0;32m   3806\u001b[0m \u001b[38;5;28;01mexcept\u001b[39;00m \u001b[38;5;167;01mKeyError\u001b[39;00m \u001b[38;5;28;01mas\u001b[39;00m err:\n",
      "File \u001b[1;32mindex.pyx:167\u001b[0m, in \u001b[0;36mpandas._libs.index.IndexEngine.get_loc\u001b[1;34m()\u001b[0m\n",
      "File \u001b[1;32mindex.pyx:196\u001b[0m, in \u001b[0;36mpandas._libs.index.IndexEngine.get_loc\u001b[1;34m()\u001b[0m\n",
      "File \u001b[1;32mpandas\\\\_libs\\\\hashtable_class_helper.pxi:7081\u001b[0m, in \u001b[0;36mpandas._libs.hashtable.PyObjectHashTable.get_item\u001b[1;34m()\u001b[0m\n",
      "File \u001b[1;32mpandas\\\\_libs\\\\hashtable_class_helper.pxi:7089\u001b[0m, in \u001b[0;36mpandas._libs.hashtable.PyObjectHashTable.get_item\u001b[1;34m()\u001b[0m\n",
      "\u001b[1;31mKeyError\u001b[0m: 'Cluster'",
      "\nThe above exception was the direct cause of the following exception:\n",
      "\u001b[1;31mKeyError\u001b[0m                                  Traceback (most recent call last)",
      "Cell \u001b[1;32mIn[6], line 4\u001b[0m\n\u001b[0;32m      2\u001b[0m numerical_cols \u001b[38;5;241m=\u001b[39m df_segmentados\u001b[38;5;241m.\u001b[39mselect_dtypes(include\u001b[38;5;241m=\u001b[39m[\u001b[38;5;124m'\u001b[39m\u001b[38;5;124mnumber\u001b[39m\u001b[38;5;124m'\u001b[39m])\u001b[38;5;241m.\u001b[39mcolumns\n\u001b[0;32m      3\u001b[0m data_normalizada \u001b[38;5;241m=\u001b[39m df_segmentados[numerical_cols]\u001b[38;5;66;03m#.drop(columns=['Cluster'])  # Excluir la columna de cluster\u001b[39;00m\n\u001b[1;32m----> 4\u001b[0m labels \u001b[38;5;241m=\u001b[39m \u001b[43mdf_segmentados\u001b[49m\u001b[43m[\u001b[49m\u001b[38;5;124;43m'\u001b[39;49m\u001b[38;5;124;43mCluster\u001b[39;49m\u001b[38;5;124;43m'\u001b[39;49m\u001b[43m]\u001b[49m\n",
      "File \u001b[1;32mc:\\Users\\mglez\\AppData\\Local\\Programs\\Python\\Python311\\Lib\\site-packages\\pandas\\core\\frame.py:4102\u001b[0m, in \u001b[0;36mDataFrame.__getitem__\u001b[1;34m(self, key)\u001b[0m\n\u001b[0;32m   4100\u001b[0m \u001b[38;5;28;01mif\u001b[39;00m \u001b[38;5;28mself\u001b[39m\u001b[38;5;241m.\u001b[39mcolumns\u001b[38;5;241m.\u001b[39mnlevels \u001b[38;5;241m>\u001b[39m \u001b[38;5;241m1\u001b[39m:\n\u001b[0;32m   4101\u001b[0m     \u001b[38;5;28;01mreturn\u001b[39;00m \u001b[38;5;28mself\u001b[39m\u001b[38;5;241m.\u001b[39m_getitem_multilevel(key)\n\u001b[1;32m-> 4102\u001b[0m indexer \u001b[38;5;241m=\u001b[39m \u001b[38;5;28;43mself\u001b[39;49m\u001b[38;5;241;43m.\u001b[39;49m\u001b[43mcolumns\u001b[49m\u001b[38;5;241;43m.\u001b[39;49m\u001b[43mget_loc\u001b[49m\u001b[43m(\u001b[49m\u001b[43mkey\u001b[49m\u001b[43m)\u001b[49m\n\u001b[0;32m   4103\u001b[0m \u001b[38;5;28;01mif\u001b[39;00m is_integer(indexer):\n\u001b[0;32m   4104\u001b[0m     indexer \u001b[38;5;241m=\u001b[39m [indexer]\n",
      "File \u001b[1;32mc:\\Users\\mglez\\AppData\\Local\\Programs\\Python\\Python311\\Lib\\site-packages\\pandas\\core\\indexes\\base.py:3812\u001b[0m, in \u001b[0;36mIndex.get_loc\u001b[1;34m(self, key)\u001b[0m\n\u001b[0;32m   3807\u001b[0m     \u001b[38;5;28;01mif\u001b[39;00m \u001b[38;5;28misinstance\u001b[39m(casted_key, \u001b[38;5;28mslice\u001b[39m) \u001b[38;5;129;01mor\u001b[39;00m (\n\u001b[0;32m   3808\u001b[0m         \u001b[38;5;28misinstance\u001b[39m(casted_key, abc\u001b[38;5;241m.\u001b[39mIterable)\n\u001b[0;32m   3809\u001b[0m         \u001b[38;5;129;01mand\u001b[39;00m \u001b[38;5;28many\u001b[39m(\u001b[38;5;28misinstance\u001b[39m(x, \u001b[38;5;28mslice\u001b[39m) \u001b[38;5;28;01mfor\u001b[39;00m x \u001b[38;5;129;01min\u001b[39;00m casted_key)\n\u001b[0;32m   3810\u001b[0m     ):\n\u001b[0;32m   3811\u001b[0m         \u001b[38;5;28;01mraise\u001b[39;00m InvalidIndexError(key)\n\u001b[1;32m-> 3812\u001b[0m     \u001b[38;5;28;01mraise\u001b[39;00m \u001b[38;5;167;01mKeyError\u001b[39;00m(key) \u001b[38;5;28;01mfrom\u001b[39;00m \u001b[38;5;21;01merr\u001b[39;00m\n\u001b[0;32m   3813\u001b[0m \u001b[38;5;28;01mexcept\u001b[39;00m \u001b[38;5;167;01mTypeError\u001b[39;00m:\n\u001b[0;32m   3814\u001b[0m     \u001b[38;5;66;03m# If we have a listlike key, _check_indexing_error will raise\u001b[39;00m\n\u001b[0;32m   3815\u001b[0m     \u001b[38;5;66;03m#  InvalidIndexError. Otherwise we fall through and re-raise\u001b[39;00m\n\u001b[0;32m   3816\u001b[0m     \u001b[38;5;66;03m#  the TypeError.\u001b[39;00m\n\u001b[0;32m   3817\u001b[0m     \u001b[38;5;28mself\u001b[39m\u001b[38;5;241m.\u001b[39m_check_indexing_error(key)\n",
      "\u001b[1;31mKeyError\u001b[0m: 'Cluster'"
     ]
    }
   ],
   "source": [
    "# Seleccionar columnas numéricas\n",
    "numerical_cols = df_segmentados.select_dtypes(include=['number']).columns\n",
    "data_normalizada = df_segmentados[numerical_cols]#.drop(columns=['Cluster'])  # Excluir la columna de cluster\n",
    "labels = df_segmentados['Cluster']"
   ]
  },
  {
   "cell_type": "code",
   "execution_count": null,
   "metadata": {},
   "outputs": [],
   "source": [
    "# Coeficiente de Silueta Promedio\n",
    "silhouette_avg = silhouette_score(data_normalizada, labels)\n",
    "print(f\"\\nCoeficiente de Silueta Promedio: {silhouette_avg:.4f}\")"
   ]
  },
  {
   "cell_type": "code",
   "execution_count": null,
   "metadata": {},
   "outputs": [],
   "source": [
    "# Distancia Intra-cluster (cohesión)\n",
    "clusters = df_segmentados['Cluster'].unique()\n",
    "intra_cluster_distances = {}\n",
    "for cluster in clusters:\n",
    "    cluster_data = data_normalizada[labels == cluster]\n",
    "    centroid = cluster_data.mean(axis=0)\n",
    "    distances = np.linalg.norm(cluster_data - centroid, axis=1)\n",
    "    intra_cluster_distances[cluster] = distances.mean()\n",
    "print(\"\\nDistancia promedio Intra-cluster (cohesión):\")\n",
    "for cluster, distance in intra_cluster_distances.items():\n",
    "    print(f\"Cluster {cluster}: {distance:.4f}\")"
   ]
  },
  {
   "cell_type": "code",
   "execution_count": null,
   "metadata": {},
   "outputs": [],
   "source": [
    "\n",
    "\n",
    "\n",
    "\n",
    "\n",
    "\n",
    "\n",
    "\n",
    "\n",
    "\n",
    "\n",
    "\n",
    "# Distancia Inter-cluster (separación)\n",
    "centroids = df_segmentados.groupby('Cluster').mean(numeric_only=True)  # Promedio solo numéricos\n",
    "distances = euclidean_distances(centroids)\n",
    "np.fill_diagonal(distances, np.nan)  # Ignorar distancias intra-cluster\n",
    "inter_cluster_distances = np.nanmean(distances)\n",
    "print(f\"\\nDistancia promedio Inter-cluster (separación): {inter_cluster_distances:.4f}\")\n",
    "\n",
    "# Guardar resultados en un archivo TXT\n",
    "validation_path = 'apartado6/validation_results.txt'\n",
    "with open(validation_path, 'w') as file:\n",
    "    file.write(f\"Coeficiente de Silueta Promedio: {silhouette_avg:.4f}\\n\")\n",
    "    file.write(\"\\nDistancia promedio Intra-cluster (cohesión):\\n\")\n",
    "    for cluster, distance in intra_cluster_distances.items():\n",
    "        file.write(f\"Cluster {cluster}: {distance:.4f}\\n\")\n",
    "    file.write(f\"\\nDistancia promedio Inter-cluster (separación): {inter_cluster_distances:.4f}\\n\")\n",
    "    file.write(\"\\nEtiquetas sugeridas para cada cluster:\\n\")\n",
    "    file.write(\"Cluster 0: Clientes jóvenes de ingresos bajos con alto nivel de gasto.\\n\")\n",
    "    file.write(\"Cluster 1: Clientes mayores con ingresos altos y alto gasto mensual.\\n\")\n",
    "    file.write(\"Cluster 2: Clientes jóvenes de ingresos bajos y bajo gasto mensual.\\n\")\n",
    "    file.write(\"Cluster 3: Clientes jóvenes con ingresos bajos y gasto promedio.\\n\")\n",
    "\n",
    "print(f\"\\nResultados de validación guardados en '{validation_path}'.\")\n",
    "\n",
    "# Visualización adicional: Heatmap de distancias inter-cluster\n",
    "plt.figure(figsize=(8, 6))\n",
    "sns.heatmap(distances, annot=True, fmt=\".2f\", cmap='coolwarm', xticklabels=clusters, yticklabels=clusters)\n",
    "plt.title('Matriz de Distancias Inter-cluster')\n",
    "plt.xlabel('Cluster')\n",
    "plt.ylabel('Cluster')\n",
    "heatmap_path = 'apartado6/heatmap_inter_cluster.png'\n",
    "plt.savefig(heatmap_path)\n",
    "plt.show()\n",
    "\n",
    "# Visualización de PCA (Variación explicada)\n",
    "pca = PCA()\n",
    "pca.fit(data_normalizada)\n",
    "explained_variance = pca.explained_variance_ratio_\n",
    "\n",
    "plt.figure(figsize=(8, 6))\n",
    "plt.bar(range(1, len(explained_variance)+1), explained_variance, alpha=0.7, align='center')\n",
    "plt.step(range(1, len(explained_variance)+1), np.cumsum(explained_variance), where='mid', label='Cumulative Variance')\n",
    "plt.xlabel('Número de Componentes Principales')\n",
    "plt.ylabel('Proporción de Variación Explicada')\n",
    "plt.title('PCA - Variación Explicada')\n",
    "plt.legend(loc='best')\n",
    "pca_path = 'apartado6/pca_variation.png'\n",
    "plt.savefig(pca_path)\n",
    "plt.show()\n",
    "\n",
    "# Histogramas de distancias intra e inter-cluster\n",
    "plt.figure(figsize=(8, 6))\n",
    "sns.histplot(list(intra_cluster_distances.values()), kde=True, bins=10, color='blue', label='Intra-cluster')\n",
    "plt.axvline(np.mean(list(intra_cluster_distances.values())), color='blue', linestyle='--', label='Media Intra-cluster')\n",
    "plt.title('Distribución de Distancias Intra-cluster')\n",
    "plt.legend()\n",
    "plt.savefig('apartado6/histograma_intra_cluster.png')\n",
    "plt.show()\n",
    "\n",
    "plt.figure(figsize=(8, 6))\n",
    "sns.histplot(distances[~np.isnan(distances)].flatten(), kde=True, bins=10, color='red', label='Inter-cluster')\n",
    "plt.axvline(inter_cluster_distances, color='red', linestyle='--', label='Media Inter-cluster')\n",
    "plt.title('Distribución de Distancias Inter-cluster')\n",
    "plt.legend()\n",
    "plt.savefig('apartado6/histograma_inter_cluster.png')\n",
    "plt.show()\n",
    "\n",
    "# Conclusión en consola\n",
    "print(\"\\nVisualizaciones y métricas adicionales generadas y guardadas en 'apartado6'.\")\n"
   ]
  }
 ],
 "metadata": {
  "kernelspec": {
   "display_name": "Python 3",
   "language": "python",
   "name": "python3"
  },
  "language_info": {
   "codemirror_mode": {
    "name": "ipython",
    "version": 3
   },
   "file_extension": ".py",
   "mimetype": "text/x-python",
   "name": "python",
   "nbconvert_exporter": "python",
   "pygments_lexer": "ipython3",
   "version": "3.11.8"
  }
 },
 "nbformat": 4,
 "nbformat_minor": 2
}
